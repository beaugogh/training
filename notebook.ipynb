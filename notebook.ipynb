{
 "cells": [
  {
   "cell_type": "code",
   "execution_count": 4,
   "id": "bde2b4a1-3c6c-4a7d-a7ec-dc35f959689e",
   "metadata": {},
   "outputs": [],
   "source": [
    "from model import HuggingfaceModel"
   ]
  },
  {
   "cell_type": "code",
   "execution_count": 2,
   "id": "4ac473c6-7b72-457e-8df5-7d3bed0f9719",
   "metadata": {},
   "outputs": [
    {
     "data": {
      "application/vnd.jupyter.widget-view+json": {
       "model_id": "f215d9e1516d4572bd7fe9dd4a3ab3f0",
       "version_major": 2,
       "version_minor": 0
      },
      "text/plain": [
       "Loading checkpoint shards:   0%|          | 0/3 [00:00<?, ?it/s]"
      ]
     },
     "metadata": {},
     "output_type": "display_data"
    },
    {
     "name": "stdout",
     "output_type": "stream",
     "text": [
      "Model models/Qwen3-4B loaded successfully. Device: cuda:0\n"
     ]
    }
   ],
   "source": [
    "model_name = \"models/Qwen3-4B\"\n",
    "model = HuggingfaceModel(model_name)"
   ]
  },
  {
   "cell_type": "code",
   "execution_count": 3,
   "id": "0464b4da-533a-4fe4-8712-548109b5e10f",
   "metadata": {},
   "outputs": [
    {
     "data": {
      "text/plain": [
       "\"Sure! Here's a light-hearted joke for you:\\n\\nWhy don't skeletons fight each other?  \\nBecause they don't have the *guts*! 😄\\n\\nLet me know if you want another one!\""
      ]
     },
     "execution_count": 3,
     "metadata": {},
     "output_type": "execute_result"
    }
   ],
   "source": [
    "model.generate(\"tell me a joke\")"
   ]
  },
  {
   "cell_type": "code",
   "execution_count": null,
   "id": "89da7cf8-6953-46d3-b7ff-94521b5116a6",
   "metadata": {},
   "outputs": [],
   "source": []
  }
 ],
 "metadata": {
  "kernelspec": {
   "display_name": "Python 3 (ipykernel)",
   "language": "python",
   "name": "python3"
  },
  "language_info": {
   "codemirror_mode": {
    "name": "ipython",
    "version": 3
   },
   "file_extension": ".py",
   "mimetype": "text/x-python",
   "name": "python",
   "nbconvert_exporter": "python",
   "pygments_lexer": "ipython3",
   "version": "3.12.10"
  }
 },
 "nbformat": 4,
 "nbformat_minor": 5
}
